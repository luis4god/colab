{
  "nbformat": 4,
  "nbformat_minor": 0,
  "metadata": {
    "colab": {
      "name": "modelo_tranformado_nlp_rnn_lstm_word_2_vect.ipynb",
      "version": "0.3.2",
      "provenance": []
    },
    "language_info": {
      "codemirror_mode": {
        "name": "ipython",
        "version": 3
      },
      "file_extension": ".py",
      "mimetype": "text/x-python",
      "name": "python",
      "nbconvert_exporter": "python",
      "pygments_lexer": "ipython3",
      "version": "3.6.8"
    },
    "kernelspec": {
      "display_name": "Python 3",
      "language": "python",
      "name": "python3"
    }
  },
  "cells": [
    {
      "cell_type": "code",
      "metadata": {
        "id": "dswV7wDZaxua",
        "colab_type": "code",
        "colab": {}
      },
      "source": [
        "import numpy as np\n",
        "import pandas as pd\n",
        "from sklearn.feature_extraction.text import CountVectorizer\n",
        "from sklearn.preprocessing import LabelEncoder\n",
        "from sklearn.preprocessing import OneHotEncoder\n",
        "from keras.preprocessing.text import Tokenizer\n",
        "from keras.preprocessing.sequence import pad_sequences\n",
        "from keras.models import Sequential\n",
        "from keras.layers import Dense, Embedding, LSTM, SpatialDropout1D\n",
        "from sklearn.model_selection import train_test_split\n",
        "import re"
      ],
      "execution_count": 0,
      "outputs": []
    },
    {
      "cell_type": "code",
      "metadata": {
        "id": "5TQxfaKoaxug",
        "colab_type": "code",
        "colab": {}
      },
      "source": [
        "datos=pd.read_csv('https://raw.githubusercontent.com/luis4god/selenium_extraccion_de_datos_modelaje_y_entrenamientos_keras-tensorflow-backend-/Dev_ops/ejemplos_de_clarin.csv')"
      ],
      "execution_count": 0,
      "outputs": []
    },
    {
      "cell_type": "code",
      "metadata": {
        "id": "RVsQJjxjaxui",
        "colab_type": "code",
        "colab": {
          "base_uri": "https://localhost:8080/",
          "height": 204
        },
        "outputId": "34222826-8391-4299-de1d-3433524a4ef1"
      },
      "source": [
        "datos.head()"
      ],
      "execution_count": 5,
      "outputs": [
        {
          "output_type": "execute_result",
          "data": {
            "text/html": [
              "<div>\n",
              "<style scoped>\n",
              "    .dataframe tbody tr th:only-of-type {\n",
              "        vertical-align: middle;\n",
              "    }\n",
              "\n",
              "    .dataframe tbody tr th {\n",
              "        vertical-align: top;\n",
              "    }\n",
              "\n",
              "    .dataframe thead th {\n",
              "        text-align: right;\n",
              "    }\n",
              "</style>\n",
              "<table border=\"1\" class=\"dataframe\">\n",
              "  <thead>\n",
              "    <tr style=\"text-align: right;\">\n",
              "      <th></th>\n",
              "      <th>Unnamed: 0</th>\n",
              "      <th>subtitulo</th>\n",
              "      <th>ejemplos</th>\n",
              "    </tr>\n",
              "  </thead>\n",
              "  <tbody>\n",
              "    <tr>\n",
              "      <th>0</th>\n",
              "      <td>0</td>\n",
              "      <td>Departamentos(3014)</td>\n",
              "      <td>Departamentos 3014</td>\n",
              "    </tr>\n",
              "    <tr>\n",
              "      <th>1</th>\n",
              "      <td>1</td>\n",
              "      <td>Departamentos(3014)</td>\n",
              "      <td>7876468   CAMARONES 2761  Villa Sta Rita</td>\n",
              "    </tr>\n",
              "    <tr>\n",
              "      <th>2</th>\n",
              "      <td>2</td>\n",
              "      <td>Departamentos(3014)</td>\n",
              "      <td>7873862     CHACARITA 2amb u s 140 000 A metro...</td>\n",
              "    </tr>\n",
              "    <tr>\n",
              "      <th>3</th>\n",
              "      <td>3</td>\n",
              "      <td>Departamentos(3014)</td>\n",
              "      <td>7873865     CABALLITO 3amb COCH FIJA  SUM  pis...</td>\n",
              "    </tr>\n",
              "    <tr>\n",
              "      <th>4</th>\n",
              "      <td>4</td>\n",
              "      <td>Departamentos(3014)</td>\n",
              "      <td>7874011     PALERMO 2amb Billinghurst y Avda C...</td>\n",
              "    </tr>\n",
              "  </tbody>\n",
              "</table>\n",
              "</div>"
            ],
            "text/plain": [
              "   Unnamed: 0  ...                                           ejemplos\n",
              "0           0  ...                                Departamentos 3014 \n",
              "1           1  ...           7876468   CAMARONES 2761  Villa Sta Rita\n",
              "2           2  ...  7873862     CHACARITA 2amb u s 140 000 A metro...\n",
              "3           3  ...  7873865     CABALLITO 3amb COCH FIJA  SUM  pis...\n",
              "4           4  ...  7874011     PALERMO 2amb Billinghurst y Avda C...\n",
              "\n",
              "[5 rows x 3 columns]"
            ]
          },
          "metadata": {
            "tags": []
          },
          "execution_count": 5
        }
      ]
    },
    {
      "cell_type": "code",
      "metadata": {
        "id": "uLVxpkhPaxul",
        "colab_type": "code",
        "colab": {}
      },
      "source": [
        "datos = datos[['subtitulo','ejemplos']]"
      ],
      "execution_count": 0,
      "outputs": []
    },
    {
      "cell_type": "code",
      "metadata": {
        "id": "8tNM6V6paxum",
        "colab_type": "code",
        "colab": {
          "base_uri": "https://localhost:8080/",
          "height": 204
        },
        "outputId": "df1611d2-f387-437e-f81e-ee2ddd78863d"
      },
      "source": [
        "datos.head()"
      ],
      "execution_count": 7,
      "outputs": [
        {
          "output_type": "execute_result",
          "data": {
            "text/html": [
              "<div>\n",
              "<style scoped>\n",
              "    .dataframe tbody tr th:only-of-type {\n",
              "        vertical-align: middle;\n",
              "    }\n",
              "\n",
              "    .dataframe tbody tr th {\n",
              "        vertical-align: top;\n",
              "    }\n",
              "\n",
              "    .dataframe thead th {\n",
              "        text-align: right;\n",
              "    }\n",
              "</style>\n",
              "<table border=\"1\" class=\"dataframe\">\n",
              "  <thead>\n",
              "    <tr style=\"text-align: right;\">\n",
              "      <th></th>\n",
              "      <th>subtitulo</th>\n",
              "      <th>ejemplos</th>\n",
              "    </tr>\n",
              "  </thead>\n",
              "  <tbody>\n",
              "    <tr>\n",
              "      <th>0</th>\n",
              "      <td>Departamentos(3014)</td>\n",
              "      <td>Departamentos 3014</td>\n",
              "    </tr>\n",
              "    <tr>\n",
              "      <th>1</th>\n",
              "      <td>Departamentos(3014)</td>\n",
              "      <td>7876468   CAMARONES 2761  Villa Sta Rita</td>\n",
              "    </tr>\n",
              "    <tr>\n",
              "      <th>2</th>\n",
              "      <td>Departamentos(3014)</td>\n",
              "      <td>7873862     CHACARITA 2amb u s 140 000 A metro...</td>\n",
              "    </tr>\n",
              "    <tr>\n",
              "      <th>3</th>\n",
              "      <td>Departamentos(3014)</td>\n",
              "      <td>7873865     CABALLITO 3amb COCH FIJA  SUM  pis...</td>\n",
              "    </tr>\n",
              "    <tr>\n",
              "      <th>4</th>\n",
              "      <td>Departamentos(3014)</td>\n",
              "      <td>7874011     PALERMO 2amb Billinghurst y Avda C...</td>\n",
              "    </tr>\n",
              "  </tbody>\n",
              "</table>\n",
              "</div>"
            ],
            "text/plain": [
              "             subtitulo                                           ejemplos\n",
              "0  Departamentos(3014)                                Departamentos 3014 \n",
              "1  Departamentos(3014)           7876468   CAMARONES 2761  Villa Sta Rita\n",
              "2  Departamentos(3014)  7873862     CHACARITA 2amb u s 140 000 A metro...\n",
              "3  Departamentos(3014)  7873865     CABALLITO 3amb COCH FIJA  SUM  pis...\n",
              "4  Departamentos(3014)  7874011     PALERMO 2amb Billinghurst y Avda C..."
            ]
          },
          "metadata": {
            "tags": []
          },
          "execution_count": 7
        }
      ]
    },
    {
      "cell_type": "code",
      "metadata": {
        "id": "jNOp1hEoaxup",
        "colab_type": "code",
        "colab": {}
      },
      "source": [
        "datos['ejemplos'] = datos['ejemplos'].apply(lambda x: x.lower())\n",
        "datos['ejemplos'] = datos['ejemplos'].apply((lambda x: re.sub('[^a-zA-z0-9\\s]','',x)))"
      ],
      "execution_count": 0,
      "outputs": []
    },
    {
      "cell_type": "code",
      "metadata": {
        "id": "YvAUDgHnaxur",
        "colab_type": "code",
        "colab": {
          "base_uri": "https://localhost:8080/",
          "height": 34
        },
        "outputId": "a3bf081f-b532-4cbc-bfd3-48248f8fa489"
      },
      "source": [
        "datos['ejemplos'].shape"
      ],
      "execution_count": 9,
      "outputs": [
        {
          "output_type": "execute_result",
          "data": {
            "text/plain": [
              "(2451,)"
            ]
          },
          "metadata": {
            "tags": []
          },
          "execution_count": 9
        }
      ]
    },
    {
      "cell_type": "code",
      "metadata": {
        "id": "jkCl5m5maxuv",
        "colab_type": "code",
        "colab": {}
      },
      "source": [
        "maxim = datos['ejemplos'].shape[0]\n",
        "\n",
        "tokenizer = Tokenizer(num_words=maxim, split=' ')\n",
        "tokenizer.fit_on_texts(datos['ejemplos'].values)\n",
        "X = tokenizer.texts_to_sequences(datos['ejemplos'].values)\n",
        "X = pad_sequences(X)"
      ],
      "execution_count": 0,
      "outputs": []
    },
    {
      "cell_type": "code",
      "metadata": {
        "id": "pnqnXOJgaxux",
        "colab_type": "code",
        "colab": {}
      },
      "source": [
        "y=[x for x in datos['subtitulo']]\n",
        "\n",
        "labelencoder_y=LabelEncoder()\n",
        "labelencoder_y.fit(np.asarray(y))\n",
        "yi=labelencoder_y.transform(np.asarray(y))"
      ],
      "execution_count": 0,
      "outputs": []
    },
    {
      "cell_type": "code",
      "metadata": {
        "id": "HDe0-OSWaxuz",
        "colab_type": "code",
        "colab": {
          "base_uri": "https://localhost:8080/",
          "height": 34
        },
        "outputId": "2070fae7-a973-434f-8583-bff792f6cd12"
      },
      "source": [
        "clases={}\n",
        "for i in range(len(yi)):\n",
        "    clases[yi[i]]=y[i]\n",
        "print(len(yi))"
      ],
      "execution_count": 12,
      "outputs": [
        {
          "output_type": "stream",
          "text": [
            "2451\n"
          ],
          "name": "stdout"
        }
      ]
    },
    {
      "cell_type": "code",
      "metadata": {
        "id": "icPfgslMaxu1",
        "colab_type": "code",
        "colab": {
          "base_uri": "https://localhost:8080/",
          "height": 442
        },
        "outputId": "6b89d747-9617-4d6a-913a-7f164f1b3fd8"
      },
      "source": [
        "clases"
      ],
      "execution_count": 13,
      "outputs": [
        {
          "output_type": "execute_result",
          "data": {
            "text/plain": [
              "{0: '4x4, Pick-up, Vans, Mini Vans, Utilitarios(116)',\n",
              " 1: 'Astrología y Tarot(152)',\n",
              " 2: 'Automóviles Nacionales e Importados(699)',\n",
              " 3: 'Boliches y Otros(12)',\n",
              " 4: 'Casas(388)',\n",
              " 5: 'Choferes, Personal de Transporte y Abastecimiento, Autos(302)',\n",
              " 6: 'Construcción y Refacciones(58)',\n",
              " 7: 'Cuidado de Personas(463)',\n",
              " 8: 'Departamentos(3014)',\n",
              " 9: 'Empleados(88)',\n",
              " 10: 'Habitaciones en Hoteles, Casas de Familias y Pensiones(190)',\n",
              " 11: 'Hogar y Muebles(14)',\n",
              " 12: 'Locales Comerciales. Oficinas y Consultorios(307)',\n",
              " 13: 'Mascotas y Animales(20)',\n",
              " 14: 'Mudanzas, Fletes y Logística(67)',\n",
              " 15: 'Máquinas y otros materiales para industrias y negocios(32)',\n",
              " 16: 'Oficios y Ocupaciones Varias(679)',\n",
              " 17: 'Personal auxiliar de Casas Particulares. Hoteles, Clínicas(91)',\n",
              " 18: 'Planes de ahorro y Chocados(31)',\n",
              " 19: 'Profesionales y Ejecutivos(87)',\n",
              " 20: 'Préstamos, Hípotecas y Otros(178)',\n",
              " 21: 'Servicios Automotores y Choferes(36)',\n",
              " 22: 'Sex shops(13)',\n",
              " 23: 'Taxis, Repuestos y Accesorios(34)',\n",
              " 24: 'Transporte de Carga, Camiones, Acoplados, Colectivos, Ambulancias(12)'}"
            ]
          },
          "metadata": {
            "tags": []
          },
          "execution_count": 13
        }
      ]
    },
    {
      "cell_type": "code",
      "metadata": {
        "id": "LaktoK4faxu3",
        "colab_type": "code",
        "colab": {
          "base_uri": "https://localhost:8080/",
          "height": 139
        },
        "outputId": "407215fa-996f-4aad-df8e-fbcb31454d75"
      },
      "source": [
        "cx=yi.reshape(len(X),1).astype(\"float32\")\n",
        "onehotencoder=OneHotEncoder(categorical_features=[0])\n",
        "Y=onehotencoder.fit_transform(cx).toarray()"
      ],
      "execution_count": 14,
      "outputs": [
        {
          "output_type": "stream",
          "text": [
            "/usr/local/lib/python3.6/dist-packages/sklearn/preprocessing/_encoders.py:371: FutureWarning: The handling of integer data will change in version 0.22. Currently, the categories are determined based on the range [0, max(values)], while in the future they will be determined based on the unique values.\n",
            "If you want the future behaviour and silence this warning, you can specify \"categories='auto'\".\n",
            "In case you used a LabelEncoder before this OneHotEncoder to convert the categories to integers, then you can now use the OneHotEncoder directly.\n",
            "  warnings.warn(msg, FutureWarning)\n",
            "/usr/local/lib/python3.6/dist-packages/sklearn/preprocessing/_encoders.py:392: DeprecationWarning: The 'categorical_features' keyword is deprecated in version 0.20 and will be removed in 0.22. You can use the ColumnTransformer instead.\n",
            "  \"use the ColumnTransformer instead.\", DeprecationWarning)\n"
          ],
          "name": "stderr"
        }
      ]
    },
    {
      "cell_type": "code",
      "metadata": {
        "id": "rX-ED1hkaxu6",
        "colab_type": "code",
        "colab": {
          "base_uri": "https://localhost:8080/",
          "height": 34
        },
        "outputId": "948742c2-e06b-45de-c77c-cf2fdc3f05aa"
      },
      "source": [
        "yi.shape"
      ],
      "execution_count": 15,
      "outputs": [
        {
          "output_type": "execute_result",
          "data": {
            "text/plain": [
              "(2451,)"
            ]
          },
          "metadata": {
            "tags": []
          },
          "execution_count": 15
        }
      ]
    },
    {
      "cell_type": "code",
      "metadata": {
        "id": "UeGUER6faxu8",
        "colab_type": "code",
        "colab": {}
      },
      "source": [
        "\n",
        "X_train, X_test, Y_train, Y_test = train_test_split(X,Y, test_size = 0.33, random_state = 55)"
      ],
      "execution_count": 0,
      "outputs": []
    },
    {
      "cell_type": "code",
      "metadata": {
        "id": "2gYhg2ijaxu_",
        "colab_type": "code",
        "colab": {
          "base_uri": "https://localhost:8080/",
          "height": 139
        },
        "outputId": "ed5dad57-7717-4cd3-8869-0a39253b715f"
      },
      "source": [
        "model = Sequential()\n",
        "model.add(Embedding(maxim, 20,input_length = X.shape[1]))\n",
        "model.add(SpatialDropout1D(0.4))\n",
        "model.add(LSTM(200, dropout=0.2, recurrent_dropout=0.2))\n",
        "model.add(Dense(25,activation='softmax'))\n",
        "model.compile(loss = 'categorical_crossentropy', optimizer='adam',metrics = ['accuracy'])"
      ],
      "execution_count": 19,
      "outputs": [
        {
          "output_type": "stream",
          "text": [
            "WARNING:tensorflow:From /usr/local/lib/python3.6/dist-packages/tensorflow/python/framework/op_def_library.py:263: colocate_with (from tensorflow.python.framework.ops) is deprecated and will be removed in a future version.\n",
            "Instructions for updating:\n",
            "Colocations handled automatically by placer.\n",
            "WARNING:tensorflow:From /usr/local/lib/python3.6/dist-packages/keras/backend/tensorflow_backend.py:3445: calling dropout (from tensorflow.python.ops.nn_ops) with keep_prob is deprecated and will be removed in a future version.\n",
            "Instructions for updating:\n",
            "Please use `rate` instead of `keep_prob`. Rate should be set to `rate = 1 - keep_prob`.\n"
          ],
          "name": "stdout"
        }
      ]
    },
    {
      "cell_type": "code",
      "metadata": {
        "id": "2TphzJkpaxvC",
        "colab_type": "code",
        "colab": {
          "base_uri": "https://localhost:8080/",
          "height": 207
        },
        "outputId": "259d26b6-e641-459e-c31b-8c3d461a80e3"
      },
      "source": [
        "model.fit(X_train, Y_train, epochs = 3, batch_size=100)"
      ],
      "execution_count": 20,
      "outputs": [
        {
          "output_type": "stream",
          "text": [
            "WARNING:tensorflow:From /usr/local/lib/python3.6/dist-packages/tensorflow/python/ops/math_ops.py:3066: to_int32 (from tensorflow.python.ops.math_ops) is deprecated and will be removed in a future version.\n",
            "Instructions for updating:\n",
            "Use tf.cast instead.\n",
            "Epoch 1/3\n",
            "1642/1642 [==============================] - 11s 7ms/step - loss: 3.1017 - acc: 0.0895\n",
            "Epoch 2/3\n",
            "1642/1642 [==============================] - 10s 6ms/step - loss: 2.9465 - acc: 0.0938\n",
            "Epoch 3/3\n",
            "1642/1642 [==============================] - 10s 6ms/step - loss: 2.9329 - acc: 0.1005\n"
          ],
          "name": "stdout"
        },
        {
          "output_type": "execute_result",
          "data": {
            "text/plain": [
              "<keras.callbacks.History at 0x7f07aebe0358>"
            ]
          },
          "metadata": {
            "tags": []
          },
          "execution_count": 20
        }
      ]
    },
    {
      "cell_type": "code",
      "metadata": {
        "id": "Zd78yT7ZaxvE",
        "colab_type": "code",
        "colab": {}
      },
      "source": [
        "#model.save_weights('pesos_nlp_lstm_embeddings.h5')\n",
        "#model.load_weights('pesos_nlp_lstm_embeddings.h5')"
      ],
      "execution_count": 0,
      "outputs": []
    },
    {
      "cell_type": "code",
      "metadata": {
        "id": "_o-046EsaxvH",
        "colab_type": "code",
        "colab": {
          "base_uri": "https://localhost:8080/",
          "height": 34
        },
        "outputId": "4745802a-5ace-49ac-850e-01b3f0eacdc7"
      },
      "source": [
        "score,acc = model.evaluate(X_test, Y_test, batch_size =100)"
      ],
      "execution_count": 22,
      "outputs": [
        {
          "output_type": "stream",
          "text": [
            "809/809 [==============================] - 1s 2ms/step\n"
          ],
          "name": "stdout"
        }
      ]
    },
    {
      "cell_type": "code",
      "metadata": {
        "id": "19ig1q79axvK",
        "colab_type": "code",
        "colab": {
          "base_uri": "https://localhost:8080/",
          "height": 34
        },
        "outputId": "ed860896-3660-4835-ba36-3603c13dde98"
      },
      "source": [
        "print(\"score={},acc={}\".format(score,acc))"
      ],
      "execution_count": 23,
      "outputs": [
        {
          "output_type": "stream",
          "text": [
            "score=2.884068849797007,acc=0.08776266988003062\n"
          ],
          "name": "stdout"
        }
      ]
    },
    {
      "cell_type": "code",
      "metadata": {
        "id": "CBallEM-axvN",
        "colab_type": "code",
        "colab": {}
      },
      "source": [
        "word=[\"notebook\"]\n",
        "word=tokenizer.texts_to_sequences(word)\n",
        "word=pad_sequences(word, maxlen=106, dtype='int32', value=0)"
      ],
      "execution_count": 0,
      "outputs": []
    },
    {
      "cell_type": "code",
      "metadata": {
        "id": "LJBtHyzqaxvO",
        "colab_type": "code",
        "colab": {
          "base_uri": "https://localhost:8080/",
          "height": 34
        },
        "outputId": "b31d2584-ad95-4770-9ee6-71a3ed9e741e"
      },
      "source": [
        "clases[int(model.predict_classes(word))]"
      ],
      "execution_count": 28,
      "outputs": [
        {
          "output_type": "execute_result",
          "data": {
            "text/plain": [
              "'Departamentos(3014)'"
            ]
          },
          "metadata": {
            "tags": []
          },
          "execution_count": 28
        }
      ]
    },
    {
      "cell_type": "code",
      "metadata": {
        "id": "0viKU4cdaxvQ",
        "colab_type": "code",
        "colab": {}
      },
      "source": [
        ""
      ],
      "execution_count": 0,
      "outputs": []
    }
  ]
}